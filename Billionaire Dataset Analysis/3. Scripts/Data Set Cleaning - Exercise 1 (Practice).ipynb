{
 "cells": [
  {
   "cell_type": "markdown",
   "id": "ee1fe0db",
   "metadata": {},
   "source": [
    "## Importing Libraries"
   ]
  },
  {
   "cell_type": "code",
   "execution_count": 1,
   "id": "37d538ee",
   "metadata": {},
   "outputs": [],
   "source": [
    "import os\n",
    "import pandas as pd\n",
    "import numpy as np\n",
    "import matplotlib.pyplot as plt\n",
    "import seaborn as sns\n",
    "%matplotlib inline "
   ]
  },
  {
   "cell_type": "code",
   "execution_count": 2,
   "id": "aa17d857",
   "metadata": {},
   "outputs": [],
   "source": [
    "pathname=r'/Users/alejandrocisneros/Desktop/Data Analysis Coursework/Data Immersion/Achievement 6/Dataset Analysis'"
   ]
  },
  {
   "cell_type": "code",
   "execution_count": 3,
   "id": "9c1286ef",
   "metadata": {},
   "outputs": [
    {
     "data": {
      "text/plain": [
       "'/Users/alejandrocisneros/Desktop/Data Analysis Coursework/Data Immersion/Achievement 6/Dataset Analysis'"
      ]
     },
     "execution_count": 3,
     "metadata": {},
     "output_type": "execute_result"
    }
   ],
   "source": [
    "pathname"
   ]
  },
  {
   "cell_type": "code",
   "execution_count": 4,
   "id": "c345d78e",
   "metadata": {
    "scrolled": true
   },
   "outputs": [],
   "source": [
    "#Importing dataset\n",
    "df=pd.read_csv(os.path.join(pathname, '2. Data', 'Original Data', 'unicorn.csv'), index_col=False)"
   ]
  },
  {
   "cell_type": "markdown",
   "id": "8be14727",
   "metadata": {},
   "source": [
    "### Basic Statistics"
   ]
  },
  {
   "cell_type": "code",
   "execution_count": 5,
   "id": "8f3e5492",
   "metadata": {},
   "outputs": [
    {
     "data": {
      "text/html": [
       "<div>\n",
       "<style scoped>\n",
       "    .dataframe tbody tr th:only-of-type {\n",
       "        vertical-align: middle;\n",
       "    }\n",
       "\n",
       "    .dataframe tbody tr th {\n",
       "        vertical-align: top;\n",
       "    }\n",
       "\n",
       "    .dataframe thead th {\n",
       "        text-align: right;\n",
       "    }\n",
       "</style>\n",
       "<table border=\"1\" class=\"dataframe\">\n",
       "  <thead>\n",
       "    <tr style=\"text-align: right;\">\n",
       "      <th></th>\n",
       "      <th>Unnamed: 0</th>\n",
       "      <th>Company</th>\n",
       "      <th>Valuation ($B)</th>\n",
       "      <th>Date Joined</th>\n",
       "      <th>Country</th>\n",
       "      <th>City</th>\n",
       "      <th>Industry</th>\n",
       "      <th>Select Investors</th>\n",
       "    </tr>\n",
       "  </thead>\n",
       "  <tbody>\n",
       "    <tr>\n",
       "      <th>0</th>\n",
       "      <td>0</td>\n",
       "      <td>ByteDance</td>\n",
       "      <td>$140</td>\n",
       "      <td>4/7/2017</td>\n",
       "      <td>China</td>\n",
       "      <td>Beijing</td>\n",
       "      <td>Artificial intelligence</td>\n",
       "      <td>Sequoia Capital China, SIG Asia Investments, S...</td>\n",
       "    </tr>\n",
       "    <tr>\n",
       "      <th>1</th>\n",
       "      <td>1</td>\n",
       "      <td>SpaceX</td>\n",
       "      <td>$127</td>\n",
       "      <td>12/1/2012</td>\n",
       "      <td>United States</td>\n",
       "      <td>Hawthorne</td>\n",
       "      <td>Other</td>\n",
       "      <td>Founders Fund, Draper Fisher Jurvetson, Rothen...</td>\n",
       "    </tr>\n",
       "    <tr>\n",
       "      <th>2</th>\n",
       "      <td>2</td>\n",
       "      <td>SHEIN</td>\n",
       "      <td>$100</td>\n",
       "      <td>7/3/2018</td>\n",
       "      <td>China</td>\n",
       "      <td>Shenzhen</td>\n",
       "      <td>E-commerce &amp; direct-to-consumer</td>\n",
       "      <td>Tiger Global Management, Sequoia Capital China...</td>\n",
       "    </tr>\n",
       "    <tr>\n",
       "      <th>3</th>\n",
       "      <td>3</td>\n",
       "      <td>Stripe</td>\n",
       "      <td>$95</td>\n",
       "      <td>1/23/2014</td>\n",
       "      <td>United States</td>\n",
       "      <td>San Francisco</td>\n",
       "      <td>Fintech</td>\n",
       "      <td>Khosla Ventures, LowercaseCapital, capitalG</td>\n",
       "    </tr>\n",
       "    <tr>\n",
       "      <th>4</th>\n",
       "      <td>4</td>\n",
       "      <td>Canva</td>\n",
       "      <td>$40</td>\n",
       "      <td>1/8/2018</td>\n",
       "      <td>Australia</td>\n",
       "      <td>Surry Hills</td>\n",
       "      <td>Internet software &amp; services</td>\n",
       "      <td>Sequoia Capital China, Blackbird Ventures, Mat...</td>\n",
       "    </tr>\n",
       "    <tr>\n",
       "      <th>5</th>\n",
       "      <td>5</td>\n",
       "      <td>Checkout.com</td>\n",
       "      <td>$40</td>\n",
       "      <td>5/2/2019</td>\n",
       "      <td>United Kingdom</td>\n",
       "      <td>London</td>\n",
       "      <td>Fintech</td>\n",
       "      <td>Tiger Global Management, Insight Partners, DST...</td>\n",
       "    </tr>\n",
       "    <tr>\n",
       "      <th>6</th>\n",
       "      <td>6</td>\n",
       "      <td>Instacart</td>\n",
       "      <td>$39</td>\n",
       "      <td>12/30/2014</td>\n",
       "      <td>United States</td>\n",
       "      <td>San Francisco</td>\n",
       "      <td>Supply chain, logistics, &amp; delivery</td>\n",
       "      <td>Khosla Ventures, Kleiner Perkins Caufield &amp; By...</td>\n",
       "    </tr>\n",
       "    <tr>\n",
       "      <th>7</th>\n",
       "      <td>7</td>\n",
       "      <td>Databricks</td>\n",
       "      <td>$38</td>\n",
       "      <td>2/5/2019</td>\n",
       "      <td>United States</td>\n",
       "      <td>San Francisco</td>\n",
       "      <td>Data management &amp; analytics</td>\n",
       "      <td>Andreessen Horowitz, New Enterprise Associates...</td>\n",
       "    </tr>\n",
       "    <tr>\n",
       "      <th>8</th>\n",
       "      <td>8</td>\n",
       "      <td>Revolut</td>\n",
       "      <td>$33</td>\n",
       "      <td>4/26/2018</td>\n",
       "      <td>United Kingdom</td>\n",
       "      <td>London</td>\n",
       "      <td>Fintech</td>\n",
       "      <td>index Ventures, DST Global, Ribbit Capital</td>\n",
       "    </tr>\n",
       "    <tr>\n",
       "      <th>9</th>\n",
       "      <td>9</td>\n",
       "      <td>Epic Games</td>\n",
       "      <td>$31.5</td>\n",
       "      <td>10/26/2018</td>\n",
       "      <td>United States</td>\n",
       "      <td>Cary</td>\n",
       "      <td>Other</td>\n",
       "      <td>Tencent Holdings, KKR, Smash Ventures</td>\n",
       "    </tr>\n",
       "    <tr>\n",
       "      <th>10</th>\n",
       "      <td>10</td>\n",
       "      <td>FTX</td>\n",
       "      <td>$32</td>\n",
       "      <td>7/20/2021</td>\n",
       "      <td>Bahamas</td>\n",
       "      <td>NaN</td>\n",
       "      <td>Fintech</td>\n",
       "      <td>Sequoia Capital, Thoma Bravo, Softbank</td>\n",
       "    </tr>\n",
       "    <tr>\n",
       "      <th>11</th>\n",
       "      <td>11</td>\n",
       "      <td>Fanatics</td>\n",
       "      <td>$27</td>\n",
       "      <td>6/6/2012</td>\n",
       "      <td>United States</td>\n",
       "      <td>Jacksonville</td>\n",
       "      <td>E-commerce &amp; direct-to-consumer</td>\n",
       "      <td>SoftBank Group, Andreessen Horowitz, Temasek H...</td>\n",
       "    </tr>\n",
       "    <tr>\n",
       "      <th>12</th>\n",
       "      <td>12</td>\n",
       "      <td>Chime</td>\n",
       "      <td>$25</td>\n",
       "      <td>3/5/2019</td>\n",
       "      <td>United States</td>\n",
       "      <td>San Francisco</td>\n",
       "      <td>Fintech</td>\n",
       "      <td>Forerunner Ventures, Crosslink Capital, Homebrew</td>\n",
       "    </tr>\n",
       "    <tr>\n",
       "      <th>13</th>\n",
       "      <td>13</td>\n",
       "      <td>BYJU's</td>\n",
       "      <td>$22</td>\n",
       "      <td>7/25/2017</td>\n",
       "      <td>India</td>\n",
       "      <td>Bengaluru</td>\n",
       "      <td>Edtech</td>\n",
       "      <td>Tencent Holdings, Lightspeed India Partners, S...</td>\n",
       "    </tr>\n",
       "    <tr>\n",
       "      <th>14</th>\n",
       "      <td>14</td>\n",
       "      <td>Xiaohongshu</td>\n",
       "      <td>$20</td>\n",
       "      <td>3/31/2016</td>\n",
       "      <td>China</td>\n",
       "      <td>Shanghai</td>\n",
       "      <td>E-commerce &amp; direct-to-consumer</td>\n",
       "      <td>GGV Capital, ZhenFund, Tencent</td>\n",
       "    </tr>\n",
       "  </tbody>\n",
       "</table>\n",
       "</div>"
      ],
      "text/plain": [
       "    Unnamed: 0       Company Valuation ($B) Date Joined         Country  \\\n",
       "0            0     ByteDance           $140    4/7/2017           China   \n",
       "1            1        SpaceX           $127   12/1/2012   United States   \n",
       "2            2         SHEIN           $100    7/3/2018           China   \n",
       "3            3        Stripe            $95   1/23/2014   United States   \n",
       "4            4         Canva            $40    1/8/2018       Australia   \n",
       "5            5  Checkout.com            $40    5/2/2019  United Kingdom   \n",
       "6            6     Instacart            $39  12/30/2014   United States   \n",
       "7            7    Databricks            $38    2/5/2019   United States   \n",
       "8            8       Revolut            $33   4/26/2018  United Kingdom   \n",
       "9            9    Epic Games          $31.5  10/26/2018   United States   \n",
       "10          10           FTX            $32   7/20/2021         Bahamas   \n",
       "11          11      Fanatics            $27    6/6/2012   United States   \n",
       "12          12         Chime            $25    3/5/2019   United States   \n",
       "13          13        BYJU's            $22   7/25/2017           India   \n",
       "14          14   Xiaohongshu            $20   3/31/2016           China   \n",
       "\n",
       "             City                             Industry  \\\n",
       "0         Beijing              Artificial intelligence   \n",
       "1       Hawthorne                                Other   \n",
       "2        Shenzhen      E-commerce & direct-to-consumer   \n",
       "3   San Francisco                              Fintech   \n",
       "4     Surry Hills         Internet software & services   \n",
       "5          London                              Fintech   \n",
       "6   San Francisco  Supply chain, logistics, & delivery   \n",
       "7   San Francisco          Data management & analytics   \n",
       "8          London                              Fintech   \n",
       "9            Cary                                Other   \n",
       "10            NaN                              Fintech   \n",
       "11   Jacksonville      E-commerce & direct-to-consumer   \n",
       "12  San Francisco                              Fintech   \n",
       "13      Bengaluru                               Edtech   \n",
       "14       Shanghai      E-commerce & direct-to-consumer   \n",
       "\n",
       "                                     Select Investors  \n",
       "0   Sequoia Capital China, SIG Asia Investments, S...  \n",
       "1   Founders Fund, Draper Fisher Jurvetson, Rothen...  \n",
       "2   Tiger Global Management, Sequoia Capital China...  \n",
       "3         Khosla Ventures, LowercaseCapital, capitalG  \n",
       "4   Sequoia Capital China, Blackbird Ventures, Mat...  \n",
       "5   Tiger Global Management, Insight Partners, DST...  \n",
       "6   Khosla Ventures, Kleiner Perkins Caufield & By...  \n",
       "7   Andreessen Horowitz, New Enterprise Associates...  \n",
       "8          index Ventures, DST Global, Ribbit Capital  \n",
       "9               Tencent Holdings, KKR, Smash Ventures  \n",
       "10             Sequoia Capital, Thoma Bravo, Softbank  \n",
       "11  SoftBank Group, Andreessen Horowitz, Temasek H...  \n",
       "12   Forerunner Ventures, Crosslink Capital, Homebrew  \n",
       "13  Tencent Holdings, Lightspeed India Partners, S...  \n",
       "14                     GGV Capital, ZhenFund, Tencent  "
      ]
     },
     "execution_count": 5,
     "metadata": {},
     "output_type": "execute_result"
    }
   ],
   "source": [
    "df.head(15)"
   ]
  },
  {
   "cell_type": "code",
   "execution_count": 6,
   "id": "efea58d6",
   "metadata": {},
   "outputs": [
    {
     "data": {
      "text/plain": [
       "(1201, 8)"
      ]
     },
     "execution_count": 6,
     "metadata": {},
     "output_type": "execute_result"
    }
   ],
   "source": [
    "df.shape"
   ]
  },
  {
   "cell_type": "code",
   "execution_count": 7,
   "id": "1b459bee",
   "metadata": {},
   "outputs": [
    {
     "name": "stdout",
     "output_type": "stream",
     "text": [
      "<class 'pandas.core.frame.DataFrame'>\n",
      "RangeIndex: 1201 entries, 0 to 1200\n",
      "Data columns (total 8 columns):\n",
      " #   Column            Non-Null Count  Dtype \n",
      "---  ------            --------------  ----- \n",
      " 0   Unnamed: 0        1201 non-null   int64 \n",
      " 1   Company           1201 non-null   object\n",
      " 2   Valuation ($B)    1201 non-null   object\n",
      " 3   Date Joined       1201 non-null   object\n",
      " 4   Country           1201 non-null   object\n",
      " 5   City              1183 non-null   object\n",
      " 6   Industry          1201 non-null   object\n",
      " 7   Select Investors  1200 non-null   object\n",
      "dtypes: int64(1), object(7)\n",
      "memory usage: 75.2+ KB\n"
     ]
    }
   ],
   "source": [
    "df.info()"
   ]
  },
  {
   "cell_type": "code",
   "execution_count": 8,
   "id": "ee9a5436",
   "metadata": {},
   "outputs": [
    {
     "data": {
      "text/html": [
       "<div>\n",
       "<style scoped>\n",
       "    .dataframe tbody tr th:only-of-type {\n",
       "        vertical-align: middle;\n",
       "    }\n",
       "\n",
       "    .dataframe tbody tr th {\n",
       "        vertical-align: top;\n",
       "    }\n",
       "\n",
       "    .dataframe thead th {\n",
       "        text-align: right;\n",
       "    }\n",
       "</style>\n",
       "<table border=\"1\" class=\"dataframe\">\n",
       "  <thead>\n",
       "    <tr style=\"text-align: right;\">\n",
       "      <th></th>\n",
       "      <th>Unnamed: 0</th>\n",
       "    </tr>\n",
       "  </thead>\n",
       "  <tbody>\n",
       "    <tr>\n",
       "      <th>count</th>\n",
       "      <td>1201.000000</td>\n",
       "    </tr>\n",
       "    <tr>\n",
       "      <th>mean</th>\n",
       "      <td>600.000000</td>\n",
       "    </tr>\n",
       "    <tr>\n",
       "      <th>std</th>\n",
       "      <td>346.843144</td>\n",
       "    </tr>\n",
       "    <tr>\n",
       "      <th>min</th>\n",
       "      <td>0.000000</td>\n",
       "    </tr>\n",
       "    <tr>\n",
       "      <th>25%</th>\n",
       "      <td>300.000000</td>\n",
       "    </tr>\n",
       "    <tr>\n",
       "      <th>50%</th>\n",
       "      <td>600.000000</td>\n",
       "    </tr>\n",
       "    <tr>\n",
       "      <th>75%</th>\n",
       "      <td>900.000000</td>\n",
       "    </tr>\n",
       "    <tr>\n",
       "      <th>max</th>\n",
       "      <td>1200.000000</td>\n",
       "    </tr>\n",
       "  </tbody>\n",
       "</table>\n",
       "</div>"
      ],
      "text/plain": [
       "        Unnamed: 0\n",
       "count  1201.000000\n",
       "mean    600.000000\n",
       "std     346.843144\n",
       "min       0.000000\n",
       "25%     300.000000\n",
       "50%     600.000000\n",
       "75%     900.000000\n",
       "max    1200.000000"
      ]
     },
     "execution_count": 8,
     "metadata": {},
     "output_type": "execute_result"
    }
   ],
   "source": [
    "df.describe()"
   ]
  },
  {
   "cell_type": "code",
   "execution_count": 9,
   "id": "036078f1",
   "metadata": {},
   "outputs": [
    {
     "data": {
      "text/plain": [
       "Unnamed: 0           int64\n",
       "Company             object\n",
       "Valuation ($B)      object\n",
       "Date Joined         object\n",
       "Country             object\n",
       "City                object\n",
       "Industry            object\n",
       "Select Investors    object\n",
       "dtype: object"
      ]
     },
     "execution_count": 9,
     "metadata": {},
     "output_type": "execute_result"
    }
   ],
   "source": [
    "df.dtypes"
   ]
  },
  {
   "cell_type": "markdown",
   "id": "7b36687e",
   "metadata": {},
   "source": [
    "## Data Wrangling"
   ]
  },
  {
   "cell_type": "code",
   "execution_count": 10,
   "id": "63ed103d",
   "metadata": {},
   "outputs": [],
   "source": [
    "#Here, we will change the the 'Valuation($)' column by eliminating the '$' and then changing the data type to float64\n",
    "df['Valuation ($B)']=df['Valuation ($B)'].str.replace('$', '')"
   ]
  },
  {
   "cell_type": "code",
   "execution_count": 11,
   "id": "93713548",
   "metadata": {},
   "outputs": [],
   "source": [
    "#Now, we will change the data type to a float in order to be our 2nd continuous variable and show decimal values\n",
    "df['Valuation ($B)']=df['Valuation ($B)'].astype(float)"
   ]
  },
  {
   "cell_type": "code",
   "execution_count": 12,
   "id": "4b66c1f3",
   "metadata": {},
   "outputs": [
    {
     "data": {
      "text/plain": [
       "Unnamed: 0            int64\n",
       "Company              object\n",
       "Valuation ($B)      float64\n",
       "Date Joined          object\n",
       "Country              object\n",
       "City                 object\n",
       "Industry             object\n",
       "Select Investors     object\n",
       "dtype: object"
      ]
     },
     "execution_count": 12,
     "metadata": {},
     "output_type": "execute_result"
    }
   ],
   "source": [
    "df.dtypes"
   ]
  },
  {
   "cell_type": "code",
   "execution_count": 13,
   "id": "82d3c8ba",
   "metadata": {},
   "outputs": [],
   "source": [
    "#Now, we will change the data type for column 'Date Joined' from object to Date\n",
    "df['Date Joined']=pd.to_datetime(df['Date Joined'])"
   ]
  },
  {
   "cell_type": "code",
   "execution_count": 14,
   "id": "f315f3e1",
   "metadata": {},
   "outputs": [],
   "source": [
    "#Now, we will go ahead and delete the 'Unnamed: 0' column, which is just a numeral index for the dataset.\n",
    "df.drop([\"Unnamed: 0\"], axis=1, inplace=True)"
   ]
  },
  {
   "cell_type": "code",
   "execution_count": 15,
   "id": "677aaedb",
   "metadata": {},
   "outputs": [
    {
     "data": {
      "text/html": [
       "<div>\n",
       "<style scoped>\n",
       "    .dataframe tbody tr th:only-of-type {\n",
       "        vertical-align: middle;\n",
       "    }\n",
       "\n",
       "    .dataframe tbody tr th {\n",
       "        vertical-align: top;\n",
       "    }\n",
       "\n",
       "    .dataframe thead th {\n",
       "        text-align: right;\n",
       "    }\n",
       "</style>\n",
       "<table border=\"1\" class=\"dataframe\">\n",
       "  <thead>\n",
       "    <tr style=\"text-align: right;\">\n",
       "      <th></th>\n",
       "      <th>Valuation ($B)</th>\n",
       "      <th>Date Joined</th>\n",
       "    </tr>\n",
       "  </thead>\n",
       "  <tbody>\n",
       "    <tr>\n",
       "      <th>count</th>\n",
       "      <td>1201.000000</td>\n",
       "      <td>1201</td>\n",
       "    </tr>\n",
       "    <tr>\n",
       "      <th>mean</th>\n",
       "      <td>3.222981</td>\n",
       "      <td>2020-08-27 03:33:25.328892416</td>\n",
       "    </tr>\n",
       "    <tr>\n",
       "      <th>min</th>\n",
       "      <td>1.000000</td>\n",
       "      <td>2011-04-02 00:00:00</td>\n",
       "    </tr>\n",
       "    <tr>\n",
       "      <th>25%</th>\n",
       "      <td>1.100000</td>\n",
       "      <td>2019-10-16 00:00:00</td>\n",
       "    </tr>\n",
       "    <tr>\n",
       "      <th>50%</th>\n",
       "      <td>1.570000</td>\n",
       "      <td>2021-05-18 00:00:00</td>\n",
       "    </tr>\n",
       "    <tr>\n",
       "      <th>75%</th>\n",
       "      <td>3.000000</td>\n",
       "      <td>2021-11-28 00:00:00</td>\n",
       "    </tr>\n",
       "    <tr>\n",
       "      <th>max</th>\n",
       "      <td>140.000000</td>\n",
       "      <td>2022-11-14 00:00:00</td>\n",
       "    </tr>\n",
       "    <tr>\n",
       "      <th>std</th>\n",
       "      <td>7.595045</td>\n",
       "      <td>NaN</td>\n",
       "    </tr>\n",
       "  </tbody>\n",
       "</table>\n",
       "</div>"
      ],
      "text/plain": [
       "       Valuation ($B)                    Date Joined\n",
       "count     1201.000000                           1201\n",
       "mean         3.222981  2020-08-27 03:33:25.328892416\n",
       "min          1.000000            2011-04-02 00:00:00\n",
       "25%          1.100000            2019-10-16 00:00:00\n",
       "50%          1.570000            2021-05-18 00:00:00\n",
       "75%          3.000000            2021-11-28 00:00:00\n",
       "max        140.000000            2022-11-14 00:00:00\n",
       "std          7.595045                            NaN"
      ]
     },
     "execution_count": 15,
     "metadata": {},
     "output_type": "execute_result"
    }
   ],
   "source": [
    "#Here, we see the result via descriptive statistics\n",
    "df.describe()"
   ]
  },
  {
   "cell_type": "markdown",
   "id": "d98c6d95",
   "metadata": {},
   "source": [
    "### Success!"
   ]
  },
  {
   "cell_type": "markdown",
   "id": "c494b3ef",
   "metadata": {},
   "source": [
    "### Now, we must focus on locating and dealing with any missing values in our data set"
   ]
  },
  {
   "cell_type": "code",
   "execution_count": 16,
   "id": "ec7649a6",
   "metadata": {},
   "outputs": [
    {
     "data": {
      "text/plain": [
       "Company              0\n",
       "Valuation ($B)       0\n",
       "Date Joined          0\n",
       "Country              0\n",
       "City                18\n",
       "Industry             0\n",
       "Select Investors     1\n",
       "dtype: int64"
      ]
     },
     "execution_count": 16,
     "metadata": {},
     "output_type": "execute_result"
    }
   ],
   "source": [
    "df.isnull().sum()"
   ]
  },
  {
   "cell_type": "markdown",
   "id": "de4c36ca",
   "metadata": {},
   "source": [
    "### Since we cannot impute locations, we must either delete the observations or label them as unknown. Given that these values account for less than 1% of the entire data set, we are okay with deleting them."
   ]
  },
  {
   "cell_type": "code",
   "execution_count": 17,
   "id": "022c274e",
   "metadata": {},
   "outputs": [],
   "source": [
    "df.dropna(subset=['City'], inplace=True)"
   ]
  },
  {
   "cell_type": "code",
   "execution_count": 18,
   "id": "19b25f84",
   "metadata": {},
   "outputs": [],
   "source": [
    "df.dropna(subset=['Select Investors'], inplace=True)"
   ]
  },
  {
   "cell_type": "code",
   "execution_count": 19,
   "id": "a763b182",
   "metadata": {},
   "outputs": [
    {
     "data": {
      "text/plain": [
       "Company             0\n",
       "Valuation ($B)      0\n",
       "Date Joined         0\n",
       "Country             0\n",
       "City                0\n",
       "Industry            0\n",
       "Select Investors    0\n",
       "dtype: int64"
      ]
     },
     "execution_count": 19,
     "metadata": {},
     "output_type": "execute_result"
    }
   ],
   "source": [
    "#TIme to re-check for null values\n",
    "df.isnull().sum()"
   ]
  },
  {
   "cell_type": "markdown",
   "id": "eb194858",
   "metadata": {},
   "source": [
    "#### Success! All observations containing null values have been deleted from the data frame."
   ]
  },
  {
   "cell_type": "code",
   "execution_count": 20,
   "id": "d746e32d",
   "metadata": {},
   "outputs": [
    {
     "data": {
      "text/html": [
       "<div>\n",
       "<style scoped>\n",
       "    .dataframe tbody tr th:only-of-type {\n",
       "        vertical-align: middle;\n",
       "    }\n",
       "\n",
       "    .dataframe tbody tr th {\n",
       "        vertical-align: top;\n",
       "    }\n",
       "\n",
       "    .dataframe thead th {\n",
       "        text-align: right;\n",
       "    }\n",
       "</style>\n",
       "<table border=\"1\" class=\"dataframe\">\n",
       "  <thead>\n",
       "    <tr style=\"text-align: right;\">\n",
       "      <th></th>\n",
       "      <th>Valuation ($B)</th>\n",
       "      <th>Date Joined</th>\n",
       "    </tr>\n",
       "  </thead>\n",
       "  <tbody>\n",
       "    <tr>\n",
       "      <th>count</th>\n",
       "      <td>1182.000000</td>\n",
       "      <td>1182</td>\n",
       "    </tr>\n",
       "    <tr>\n",
       "      <th>mean</th>\n",
       "      <td>3.223257</td>\n",
       "      <td>2020-08-25 10:26:11.573604096</td>\n",
       "    </tr>\n",
       "    <tr>\n",
       "      <th>min</th>\n",
       "      <td>1.000000</td>\n",
       "      <td>2011-04-02 00:00:00</td>\n",
       "    </tr>\n",
       "    <tr>\n",
       "      <th>25%</th>\n",
       "      <td>1.100000</td>\n",
       "      <td>2019-10-08 12:00:00</td>\n",
       "    </tr>\n",
       "    <tr>\n",
       "      <th>50%</th>\n",
       "      <td>1.585000</td>\n",
       "      <td>2021-05-15 00:00:00</td>\n",
       "    </tr>\n",
       "    <tr>\n",
       "      <th>75%</th>\n",
       "      <td>3.000000</td>\n",
       "      <td>2021-11-29 00:00:00</td>\n",
       "    </tr>\n",
       "    <tr>\n",
       "      <th>max</th>\n",
       "      <td>140.000000</td>\n",
       "      <td>2022-11-14 00:00:00</td>\n",
       "    </tr>\n",
       "    <tr>\n",
       "      <th>std</th>\n",
       "      <td>7.606725</td>\n",
       "      <td>NaN</td>\n",
       "    </tr>\n",
       "  </tbody>\n",
       "</table>\n",
       "</div>"
      ],
      "text/plain": [
       "       Valuation ($B)                    Date Joined\n",
       "count     1182.000000                           1182\n",
       "mean         3.223257  2020-08-25 10:26:11.573604096\n",
       "min          1.000000            2011-04-02 00:00:00\n",
       "25%          1.100000            2019-10-08 12:00:00\n",
       "50%          1.585000            2021-05-15 00:00:00\n",
       "75%          3.000000            2021-11-29 00:00:00\n",
       "max        140.000000            2022-11-14 00:00:00\n",
       "std          7.606725                            NaN"
      ]
     },
     "execution_count": 20,
     "metadata": {},
     "output_type": "execute_result"
    }
   ],
   "source": [
    "df.describe()"
   ]
  },
  {
   "cell_type": "code",
   "execution_count": 21,
   "id": "4a17629f",
   "metadata": {},
   "outputs": [
    {
     "data": {
      "text/html": [
       "<div>\n",
       "<style scoped>\n",
       "    .dataframe tbody tr th:only-of-type {\n",
       "        vertical-align: middle;\n",
       "    }\n",
       "\n",
       "    .dataframe tbody tr th {\n",
       "        vertical-align: top;\n",
       "    }\n",
       "\n",
       "    .dataframe thead th {\n",
       "        text-align: right;\n",
       "    }\n",
       "</style>\n",
       "<table border=\"1\" class=\"dataframe\">\n",
       "  <thead>\n",
       "    <tr style=\"text-align: right;\">\n",
       "      <th></th>\n",
       "      <th>Company</th>\n",
       "      <th>Valuation ($B)</th>\n",
       "      <th>Date Joined</th>\n",
       "      <th>Country</th>\n",
       "      <th>City</th>\n",
       "      <th>Industry</th>\n",
       "      <th>Select Investors</th>\n",
       "    </tr>\n",
       "  </thead>\n",
       "  <tbody>\n",
       "    <tr>\n",
       "      <th>0</th>\n",
       "      <td>ByteDance</td>\n",
       "      <td>140.0</td>\n",
       "      <td>2017-04-07</td>\n",
       "      <td>China</td>\n",
       "      <td>Beijing</td>\n",
       "      <td>Artificial intelligence</td>\n",
       "      <td>Sequoia Capital China, SIG Asia Investments, S...</td>\n",
       "    </tr>\n",
       "    <tr>\n",
       "      <th>1</th>\n",
       "      <td>SpaceX</td>\n",
       "      <td>127.0</td>\n",
       "      <td>2012-12-01</td>\n",
       "      <td>United States</td>\n",
       "      <td>Hawthorne</td>\n",
       "      <td>Other</td>\n",
       "      <td>Founders Fund, Draper Fisher Jurvetson, Rothen...</td>\n",
       "    </tr>\n",
       "    <tr>\n",
       "      <th>2</th>\n",
       "      <td>SHEIN</td>\n",
       "      <td>100.0</td>\n",
       "      <td>2018-07-03</td>\n",
       "      <td>China</td>\n",
       "      <td>Shenzhen</td>\n",
       "      <td>E-commerce &amp; direct-to-consumer</td>\n",
       "      <td>Tiger Global Management, Sequoia Capital China...</td>\n",
       "    </tr>\n",
       "    <tr>\n",
       "      <th>3</th>\n",
       "      <td>Stripe</td>\n",
       "      <td>95.0</td>\n",
       "      <td>2014-01-23</td>\n",
       "      <td>United States</td>\n",
       "      <td>San Francisco</td>\n",
       "      <td>Fintech</td>\n",
       "      <td>Khosla Ventures, LowercaseCapital, capitalG</td>\n",
       "    </tr>\n",
       "    <tr>\n",
       "      <th>4</th>\n",
       "      <td>Canva</td>\n",
       "      <td>40.0</td>\n",
       "      <td>2018-01-08</td>\n",
       "      <td>Australia</td>\n",
       "      <td>Surry Hills</td>\n",
       "      <td>Internet software &amp; services</td>\n",
       "      <td>Sequoia Capital China, Blackbird Ventures, Mat...</td>\n",
       "    </tr>\n",
       "    <tr>\n",
       "      <th>...</th>\n",
       "      <td>...</td>\n",
       "      <td>...</td>\n",
       "      <td>...</td>\n",
       "      <td>...</td>\n",
       "      <td>...</td>\n",
       "      <td>...</td>\n",
       "      <td>...</td>\n",
       "    </tr>\n",
       "    <tr>\n",
       "      <th>1196</th>\n",
       "      <td>LeadSquared</td>\n",
       "      <td>1.0</td>\n",
       "      <td>2022-06-21</td>\n",
       "      <td>India</td>\n",
       "      <td>Bengaluru</td>\n",
       "      <td>Internet software &amp; services</td>\n",
       "      <td>Gaja Capital Partners, Stakeboat Capital, West...</td>\n",
       "    </tr>\n",
       "    <tr>\n",
       "      <th>1197</th>\n",
       "      <td>FourKites</td>\n",
       "      <td>1.0</td>\n",
       "      <td>2022-06-21</td>\n",
       "      <td>United States</td>\n",
       "      <td>Chicago</td>\n",
       "      <td>Supply chain, logistics, &amp; delivery</td>\n",
       "      <td>Hyde Park Venture Partners, Bain Capital Ventu...</td>\n",
       "    </tr>\n",
       "    <tr>\n",
       "      <th>1198</th>\n",
       "      <td>VulcanForms</td>\n",
       "      <td>1.0</td>\n",
       "      <td>2022-07-05</td>\n",
       "      <td>United States</td>\n",
       "      <td>Burlington</td>\n",
       "      <td>Supply chain, logistics, &amp; delivery</td>\n",
       "      <td>Eclipse Ventures, D1 Capital Partners, Industr...</td>\n",
       "    </tr>\n",
       "    <tr>\n",
       "      <th>1199</th>\n",
       "      <td>SingleStore</td>\n",
       "      <td>1.0</td>\n",
       "      <td>2022-07-12</td>\n",
       "      <td>United States</td>\n",
       "      <td>San Francisco</td>\n",
       "      <td>Data management &amp; analytics</td>\n",
       "      <td>Google Ventures, Accel, Data Collective</td>\n",
       "    </tr>\n",
       "    <tr>\n",
       "      <th>1200</th>\n",
       "      <td>Unstoppable Domains</td>\n",
       "      <td>1.0</td>\n",
       "      <td>2022-07-27</td>\n",
       "      <td>United States</td>\n",
       "      <td>Las Vegas</td>\n",
       "      <td>Internet software &amp; services</td>\n",
       "      <td>Boost VC, Draper Associates, Gaingels</td>\n",
       "    </tr>\n",
       "  </tbody>\n",
       "</table>\n",
       "<p>1182 rows × 7 columns</p>\n",
       "</div>"
      ],
      "text/plain": [
       "                  Company  Valuation ($B) Date Joined        Country  \\\n",
       "0               ByteDance           140.0  2017-04-07          China   \n",
       "1                  SpaceX           127.0  2012-12-01  United States   \n",
       "2                   SHEIN           100.0  2018-07-03          China   \n",
       "3                  Stripe            95.0  2014-01-23  United States   \n",
       "4                   Canva            40.0  2018-01-08      Australia   \n",
       "...                   ...             ...         ...            ...   \n",
       "1196          LeadSquared             1.0  2022-06-21          India   \n",
       "1197            FourKites             1.0  2022-06-21  United States   \n",
       "1198          VulcanForms             1.0  2022-07-05  United States   \n",
       "1199          SingleStore             1.0  2022-07-12  United States   \n",
       "1200  Unstoppable Domains             1.0  2022-07-27  United States   \n",
       "\n",
       "               City                             Industry  \\\n",
       "0           Beijing              Artificial intelligence   \n",
       "1         Hawthorne                                Other   \n",
       "2          Shenzhen      E-commerce & direct-to-consumer   \n",
       "3     San Francisco                              Fintech   \n",
       "4       Surry Hills         Internet software & services   \n",
       "...             ...                                  ...   \n",
       "1196      Bengaluru         Internet software & services   \n",
       "1197        Chicago  Supply chain, logistics, & delivery   \n",
       "1198     Burlington  Supply chain, logistics, & delivery   \n",
       "1199  San Francisco          Data management & analytics   \n",
       "1200      Las Vegas         Internet software & services   \n",
       "\n",
       "                                       Select Investors  \n",
       "0     Sequoia Capital China, SIG Asia Investments, S...  \n",
       "1     Founders Fund, Draper Fisher Jurvetson, Rothen...  \n",
       "2     Tiger Global Management, Sequoia Capital China...  \n",
       "3           Khosla Ventures, LowercaseCapital, capitalG  \n",
       "4     Sequoia Capital China, Blackbird Ventures, Mat...  \n",
       "...                                                 ...  \n",
       "1196  Gaja Capital Partners, Stakeboat Capital, West...  \n",
       "1197  Hyde Park Venture Partners, Bain Capital Ventu...  \n",
       "1198  Eclipse Ventures, D1 Capital Partners, Industr...  \n",
       "1199            Google Ventures, Accel, Data Collective  \n",
       "1200              Boost VC, Draper Associates, Gaingels  \n",
       "\n",
       "[1182 rows x 7 columns]"
      ]
     },
     "execution_count": 21,
     "metadata": {},
     "output_type": "execute_result"
    }
   ],
   "source": [
    "df"
   ]
  },
  {
   "cell_type": "code",
   "execution_count": null,
   "id": "8b6bfe95",
   "metadata": {},
   "outputs": [],
   "source": []
  }
 ],
 "metadata": {
  "kernelspec": {
   "display_name": "Python 3 (ipykernel)",
   "language": "python",
   "name": "python3"
  },
  "language_info": {
   "codemirror_mode": {
    "name": "ipython",
    "version": 3
   },
   "file_extension": ".py",
   "mimetype": "text/x-python",
   "name": "python",
   "nbconvert_exporter": "python",
   "pygments_lexer": "ipython3",
   "version": "3.11.5"
  }
 },
 "nbformat": 4,
 "nbformat_minor": 5
}
